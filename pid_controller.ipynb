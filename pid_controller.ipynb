{
  "nbformat": 4,
  "nbformat_minor": 0,
  "metadata": {
    "colab": {
      "name": "pid_controller.ipynb",
      "provenance": [],
      "collapsed_sections": [],
      "authorship_tag": "ABX9TyOxHzto90yyTsk4qnyrEP4s"
    },
    "kernelspec": {
      "name": "python3",
      "display_name": "Python 3"
    }
  },
  "cells": [
    {
      "cell_type": "code",
      "metadata": {
        "id": "5v2JDxcsV0Uq",
        "colab_type": "code",
        "colab": {}
      },
      "source": [
        "#coding:utf-8\n",
        "import numpy as np\n",
        "from matplotlib import pyplot as plt\n",
        "from numpy.random import *"
      ],
      "execution_count": 0,
      "outputs": []
    },
    {
      "cell_type": "code",
      "metadata": {
        "id": "Y6jwogOlWAtt",
        "colab_type": "code",
        "colab": {
          "base_uri": "https://localhost:8080/",
          "height": 269
        },
        "outputId": "82e2b534-0ca6-4d30-d213-3563c02cdb99"
      },
      "source": [
        "def main():\n",
        "  m = 0.00\n",
        "  m1 = 0.00\n",
        "  goal = 1.00\n",
        "  e = 0.00\n",
        "  e1 = 0.00\n",
        "  e2 = 0.00\n",
        "  kp = 0.1\n",
        "  ki = 0.1\n",
        "  kd = 0.1\n",
        "  t = 100\n",
        "\n",
        "  x_axis = []\n",
        "  y_axis = []\n",
        "\n",
        "  x_axis.append(0)\n",
        "  y_axis.append(0.00)\n",
        "\n",
        "  for i in range(1, t):\n",
        "    m1 = m\n",
        "    e2 = e1\n",
        "    e1 = e\n",
        "    e = goal - y_axis[i-1]\n",
        "    \n",
        "    m = m1 + kp * (e-e1) + ki * e + kd * ((e-e1) - (e1-e2))\n",
        "\n",
        "    y_axis.append(m)\n",
        "    x_axis.append(i)\n",
        "  \n",
        "  plt.plot(x_axis, y_axis)\n",
        "  plt.ylim(0, goal*2)\n",
        "  plt.show()\n",
        "\n",
        "if __name__ == \"__main__\":\n",
        "  main()"
      ],
      "execution_count": 18,
      "outputs": [
        {
          "output_type": "display_data",
          "data": {
            "image/png": "[encoded data removed]",
            "text/plain": [
              "<Figure size 432x288 with 1 Axes>"
            ]
          },
          "metadata": {
            "tags": [],
            "needs_background": "light"
          }
        }
      ]
    }
  ]
}